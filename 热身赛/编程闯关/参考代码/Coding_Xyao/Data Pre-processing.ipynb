{
 "cells": [
  {
   "cell_type": "markdown",
   "metadata": {},
   "source": [
    "# 华为软件精英挑战赛——编程闯关"
   ]
  },
  {
   "cell_type": "markdown",
   "metadata": {},
   "source": [
    "## 读取数据"
   ]
  },
  {
   "cell_type": "markdown",
   "metadata": {},
   "source": [
    "读取提供数据(.txt文件)，探查数据内容"
   ]
  },
  {
   "cell_type": "code",
   "execution_count": 2,
   "metadata": {},
   "outputs": [],
   "source": [
    "# 导入相关库\n",
    "import os\n",
    "import numpy as np"
   ]
  },
  {
   "cell_type": "code",
   "execution_count": 3,
   "metadata": {},
   "outputs": [
    {
     "data": {
      "text/plain": [
       "'C:\\\\Users\\\\Xyao\\\\Desktop\\\\华为软件精英挑战赛\\\\热身赛\\\\编程闯关\\\\参考代码\\\\Coding_Xyao'"
      ]
     },
     "execution_count": 3,
     "metadata": {},
     "output_type": "execute_result"
    }
   ],
   "source": [
    "# 显示当前工作路径\n",
    "# jupyter notebook 只能打开当前目录下的数据集\n",
    "# 所以需要将数据集upload到当前目录下\n",
    "os.getcwd()"
   ]
  },
  {
   "cell_type": "code",
   "execution_count": 4,
   "metadata": {},
   "outputs": [],
   "source": [
    "# 定义一个数据读取函数\n",
    "def loadDataSet(filename, label_existed_flag):\n",
    "    '''\n",
    "    filename: 需要读取的文件路径\n",
    "    label_existed_flag: 用于区分训练集文件/测试集文件；取值1/0；\n",
    "                                      1表明存在label,为训练集；\n",
    "                                      0表明不存在label,为测试集\n",
    "    '''\n",
    "    feats = []          # 保存features, 但数据文件中并未明确阐述每一列的属性（比如不知道数据是表示性别、年龄等），已经做了归一化处理\n",
    "    labels = []        # 保存labels, 即每一条样本对应的label（此处为二分类，只有0/1）\n",
    "    with open(filename, 'r') as fr:   # 使用with open会自动调用close()\n",
    "        lines = fr.readlines()\n",
    "        for line in lines:\n",
    "            temp = []\n",
    "            allInfo = line.strip().split(',')\n",
    "            dims = len(allInfo)\n",
    "            if label_existed_flag == 1:\n",
    "                for index in range(dims-1):\n",
    "                    temp.append(float(allInfo[index]))\n",
    "                feats.append(temp)\n",
    "                labels.append(float(allInfo[dims-1]))\n",
    "            else:\n",
    "                for index in range(dims):\n",
    "                    temp.append(float(allInfo[index]))\n",
    "                feats.append(temp)\n",
    "        feats = np.array(feats)\n",
    "        labels = np.array(labels)\n",
    "    return feats, labels"
   ]
  },
  {
   "cell_type": "code",
   "execution_count": 5,
   "metadata": {},
   "outputs": [],
   "source": [
    "# 读取训练集数据train_data.txt\n",
    "train_file =  \"train_data.txt\"\n",
    "train_feats, train_labels = loadDataSet(train_file, 1)"
   ]
  },
  {
   "cell_type": "code",
   "execution_count": 6,
   "metadata": {},
   "outputs": [],
   "source": [
    "# 读取测试集数据test_data.txt\n",
    "test_file = \"test_data.txt\"\n",
    "test_feats, _ = loadDataSet(test_file, 0)"
   ]
  },
  {
   "cell_type": "code",
   "execution_count": 7,
   "metadata": {},
   "outputs": [],
   "source": [
    "# 读取测试集真实标签answer.txt\n",
    "answer_file = \"answer.txt\"\n",
    "test_labels = []\n",
    "with open(answer_file, 'r') as fr:\n",
    "    lines = fr.readlines()\n",
    "    for line in lines:\n",
    "        test_labels.append(int(float(line.strip())))\n",
    "test_labels = np.array(test_labels)"
   ]
  },
  {
   "cell_type": "code",
   "execution_count": 8,
   "metadata": {},
   "outputs": [
    {
     "name": "stdout",
     "output_type": "stream",
     "text": [
      "======打印训练集尺寸======\n",
      "训练集特征尺寸:  (8000, 1000)\n",
      "训练集标签尺寸:  (8000,)\n",
      "======打印测试集尺寸======\n",
      "测试集特征尺寸:  (2000, 1000)\n",
      "测试集真实标签尺寸:  (2000,)\n"
     ]
    }
   ],
   "source": [
    "# 打印数据集形状\n",
    "print(\"======打印训练集尺寸======\")\n",
    "print(\"训练集特征尺寸:  \" + str(train_feats.shape))\n",
    "print(\"训练集标签尺寸:  \" + str(train_labels.shape))\n",
    "\n",
    "print(\"======打印测试集尺寸======\")\n",
    "print(\"测试集特征尺寸:  \" + str(test_feats.shape))\n",
    "print(\"测试集真实标签尺寸:  \" + str(test_labels.shape))"
   ]
  },
  {
   "cell_type": "code",
   "execution_count": 9,
   "metadata": {},
   "outputs": [
    {
     "name": "stdout",
     "output_type": "stream",
     "text": [
      "标签为0的样本数为：5051 \n",
      "标签为1的样本数为：2949 \n"
     ]
    }
   ],
   "source": [
    "# 统计训练集中0/1样本数\n",
    "# 查看数据集是否平衡\n",
    "from collections import Counter\n",
    "labels_info = Counter(train_labels)\n",
    "\n",
    "print(\"标签为0的样本数为：%d \" % labels_info[0])\n",
    "print(\"标签为1的样本数为：%d \" % labels_info[1])\n"
   ]
  },
  {
   "cell_type": "code",
   "execution_count": 10,
   "metadata": {},
   "outputs": [
    {
     "name": "stdout",
     "output_type": "stream",
     "text": [
      "第1样本: \n",
      "训练集: [0.239 0.079 0.934 0.131 0.024 0.748 0.951 0.922 0.858 0.475]\n",
      "标签: 0\n",
      "第2样本: \n",
      "训练集: [0.972 0.852 0.33  0.114 0.003 0.383 0.192 0.18  0.86  0.654]\n",
      "标签: 0\n",
      "第3样本: \n",
      "训练集: [0.118 0.368 0.989 0.331 0.944 0.539 0.118 0.867 0.351 0.956]\n",
      "标签: 0\n",
      "第4样本: \n",
      "训练集: [0.044 0.476 0.882 0.202 0.445 0.29  0.162 0.62  0.428 0.61 ]\n",
      "标签: 0\n",
      "第5样本: \n",
      "训练集: [0.199 0.242 0.322 0.081 0.695 0.206 0.052 0.732 0.268 0.82 ]\n",
      "标签: 0\n"
     ]
    }
   ],
   "source": [
    "# 打印5条样本\n",
    "for i in range(5):\n",
    "    print(\"第%d样本: \"%(i+1))\n",
    "    print(\"训练集: \" + str(train_feats[i, :10]))\n",
    "    print(\"标签: %d\" % train_labels[i])\n"
   ]
  },
  {
   "cell_type": "markdown",
   "metadata": {
    "heading_collapsed": true
   },
   "source": [
    "## 使用逻辑回归进行分类"
   ]
  },
  {
   "cell_type": "markdown",
   "metadata": {
    "hidden": true
   },
   "source": [
    "直接利用sklearn中的逻辑回归模型进行训练，便于快速查看分类效果"
   ]
  },
  {
   "cell_type": "code",
   "execution_count": 18,
   "metadata": {
    "hidden": true
   },
   "outputs": [],
   "source": [
    "# 在ipython环境(jupyter基于ipyhon)下直接显示图片\n",
    "%matplotlib inline"
   ]
  },
  {
   "cell_type": "code",
   "execution_count": 19,
   "metadata": {
    "hidden": true
   },
   "outputs": [],
   "source": [
    "# 支持中文和坐标轴字符的正常显示\n",
    "plt.rcParams['font.sans-serif'] = 'SimHei'\n",
    "plt.rcParams['axes.unicode_minus'] = False"
   ]
  },
  {
   "cell_type": "code",
   "execution_count": 20,
   "metadata": {
    "hidden": true
   },
   "outputs": [],
   "source": [
    "from sklearn.linear_model import LogisticRegression"
   ]
  },
  {
   "cell_type": "code",
   "execution_count": 21,
   "metadata": {
    "hidden": true
   },
   "outputs": [
    {
     "name": "stdout",
     "output_type": "stream",
     "text": [
      "[[1068  306]\n",
      " [  81  545]]\n"
     ]
    },
    {
     "data": {
      "image/png": "[encoded data removed]",
      "text/plain": [
       "<Figure size 288x288 with 2 Axes>"
      ]
     },
     "metadata": {
      "needs_background": "light"
     },
     "output_type": "display_data"
    }
   ],
   "source": [
    "LR = LogisticRegression(penalty='l1', class_weight='balanced', random_state=42, solver='saga')\n",
    "LR.fit(train_feats, train_labels)\n",
    "test_pre = LR.predict(test_feats)\n",
    "\n",
    "# 二元分类分类指标\n",
    "from sklearn.metrics import confusion_matrix\n",
    "import matplotlib.pyplot as plt\n",
    "\n",
    "# 预测值 与 真实值\n",
    "confusion_matrix = confusion_matrix(test_labels, test_pre)\n",
    "print(confusion_matrix)\n",
    "plt.matshow(confusion_matrix)\n",
    "plt.title(\"混淆矩阵\")\n",
    "plt.colorbar()\n",
    "plt.ylabel(\"真实值\")\n",
    "plt.xlabel(\"预测值\")\n",
    "plt.show()\n"
   ]
  },
  {
   "cell_type": "code",
   "execution_count": 22,
   "metadata": {
    "hidden": true
   },
   "outputs": [
    {
     "name": "stdout",
     "output_type": "stream",
     "text": [
      "              precision    recall  f1-score   support\n",
      "\n",
      "           0       0.93      0.78      0.85      1374\n",
      "           1       0.64      0.87      0.74       626\n",
      "\n",
      "    accuracy                           0.81      2000\n",
      "   macro avg       0.78      0.82      0.79      2000\n",
      "weighted avg       0.84      0.81      0.81      2000\n",
      "\n"
     ]
    }
   ],
   "source": [
    "# 给出 precision    recall  f1-score \n",
    "\n",
    "from sklearn.metrics import classification_report\n",
    "print(classification_report(test_labels, test_pre))"
   ]
  },
  {
   "cell_type": "markdown",
   "metadata": {},
   "source": [
    "## 使用lightgbm进行分类"
   ]
  },
  {
   "cell_type": "code",
   "execution_count": 23,
   "metadata": {},
   "outputs": [
    {
     "name": "stdout",
     "output_type": "stream",
     "text": [
      "Looking in indexes: https://pypi.tuna.tsinghua.edu.cn/simple\n",
      "Requirement already satisfied: lightgbm in c:\\users\\xyao\\envs\\learnpy\\lib\\site-packages (2.3.1)\n",
      "Requirement already satisfied: scipy in c:\\users\\xyao\\envs\\learnpy\\lib\\site-packages (from lightgbm) (1.3.3)\n",
      "Requirement already satisfied: scikit-learn in c:\\users\\xyao\\envs\\learnpy\\lib\\site-packages (from lightgbm) (0.22)\n",
      "Requirement already satisfied: numpy in c:\\users\\xyao\\envs\\learnpy\\lib\\site-packages (from lightgbm) (1.17.4)\n",
      "Requirement already satisfied: joblib>=0.11 in c:\\users\\xyao\\envs\\learnpy\\lib\\site-packages (from scikit-learn->lightgbm) (0.14.1)\n",
      "Note: you may need to restart the kernel to use updated packages.\n"
     ]
    }
   ],
   "source": [
    "# 如果没安装过lightgbm，则需要运行该语句进行安装，安装后需重启kernel\n",
    "# pip install lightgbm"
   ]
  },
  {
   "cell_type": "code",
   "execution_count": 11,
   "metadata": {},
   "outputs": [],
   "source": [
    "import lightgbm as lgb"
   ]
  },
  {
   "cell_type": "code",
   "execution_count": 19,
   "metadata": {},
   "outputs": [],
   "source": [
    "from sklearn.model_selection import train_test_split\n",
    "from sklearn.metrics import mean_squared_error"
   ]
  },
  {
   "cell_type": "code",
   "execution_count": 15,
   "metadata": {},
   "outputs": [
    {
     "name": "stdout",
     "output_type": "stream",
     "text": [
      "Train data length: 6400\n",
      "Test data length: 1600\n"
     ]
    }
   ],
   "source": [
    "# 训练数据集切分，取其中20%作为验证集\n",
    "X_train, X_test, y_train, y_test = train_test_split(train_feats, train_labels, test_size=0.2, random_state=42)\n",
    "print(\"Train data length:\", len(X_train))\n",
    "print(\"Test data length:\", len(X_test))"
   ]
  },
  {
   "cell_type": "code",
   "execution_count": 16,
   "metadata": {},
   "outputs": [],
   "source": [
    "# 转换为Dataset数据格式\n",
    "lgb_train = lgb.Dataset(X_train, y_train)\n",
    "lgb_eval = lgb.Dataset(X_test, y_test, reference=lgb_train)"
   ]
  },
  {
   "cell_type": "code",
   "execution_count": 27,
   "metadata": {},
   "outputs": [],
   "source": [
    "# 参数\n",
    "params = {'num_leaves': 500, #结果对最终效果影响较大，越大值越好，太大会出现过拟合\n",
    "          'min_data_in_leaf': 10,\n",
    "          'objective': 'binary', #定义的目标函数\n",
    "          'max_depth': -1,\n",
    "          'learning_rate': 0.1,\n",
    "          \"min_sum_hessian_in_leaf\": 6,\n",
    "          \"boosting\": \"gbdt\",\n",
    "          \"feature_fraction\": 0.9,  #提取的特征比率\n",
    "          \"bagging_freq\": 1,\n",
    "          \"bagging_fraction\": 0.8,\n",
    "          \"bagging_seed\": 11,\n",
    "         # \"lambda_l1\": 0.1,             #l1正则\n",
    "          'lambda_l2': 0.1,     #l2正则\n",
    "          \"verbosity\": -1,\n",
    "          \"nthread\": -1,                #线程数量，-1表示全部线程，线程越多，运行的速度越快\n",
    "          'metric': {'binary_logloss', 'auc'},  ##评价函数选择\n",
    "          \"random_state\": 42, #随机数种子，可以防止每次运行的结果不一致\n",
    "          # 'device': 'gpu' ##如果安装的事gpu版本的lightgbm,可以加快运算\n",
    "          }"
   ]
  },
  {
   "cell_type": "code",
   "execution_count": 30,
   "metadata": {
    "collapsed": true
   },
   "outputs": [
    {
     "name": "stdout",
     "output_type": "stream",
     "text": [
      "[1]\tvalid_0's binary_logloss: 0.661521\tvalid_0's auc: 0.505348\n",
      "Training until validation scores don't improve for 200 rounds\n",
      "[2]\tvalid_0's binary_logloss: 0.659863\tvalid_0's auc: 0.527891\n",
      "[3]\tvalid_0's binary_logloss: 0.660068\tvalid_0's auc: 0.535671\n",
      "[4]\tvalid_0's binary_logloss: 0.662846\tvalid_0's auc: 0.522805\n",
      "[5]\tvalid_0's binary_logloss: 0.663379\tvalid_0's auc: 0.524377\n",
      "[6]\tvalid_0's binary_logloss: 0.664007\tvalid_0's auc: 0.527486\n",
      "[7]\tvalid_0's binary_logloss: 0.663933\tvalid_0's auc: 0.534353\n",
      "[8]\tvalid_0's binary_logloss: 0.665414\tvalid_0's auc: 0.530046\n",
      "[9]\tvalid_0's binary_logloss: 0.666001\tvalid_0's auc: 0.528711\n",
      "[10]\tvalid_0's binary_logloss: 0.665646\tvalid_0's auc: 0.530524\n",
      "[11]\tvalid_0's binary_logloss: 0.667722\tvalid_0's auc: 0.528428\n",
      "[12]\tvalid_0's binary_logloss: 0.667971\tvalid_0's auc: 0.528263\n",
      "[13]\tvalid_0's binary_logloss: 0.668239\tvalid_0's auc: 0.52861\n",
      "[14]\tvalid_0's binary_logloss: 0.66751\tvalid_0's auc: 0.533097\n",
      "[15]\tvalid_0's binary_logloss: 0.66828\tvalid_0's auc: 0.534668\n",
      "[16]\tvalid_0's binary_logloss: 0.668019\tvalid_0's auc: 0.539528\n",
      "[17]\tvalid_0's binary_logloss: 0.666707\tvalid_0's auc: 0.544964\n",
      "[18]\tvalid_0's binary_logloss: 0.666783\tvalid_0's auc: 0.545018\n",
      "[19]\tvalid_0's binary_logloss: 0.667254\tvalid_0's auc: 0.545668\n",
      "[20]\tvalid_0's binary_logloss: 0.667075\tvalid_0's auc: 0.548512\n",
      "[21]\tvalid_0's binary_logloss: 0.665873\tvalid_0's auc: 0.553145\n",
      "[22]\tvalid_0's binary_logloss: 0.665795\tvalid_0's auc: 0.555655\n",
      "[23]\tvalid_0's binary_logloss: 0.664474\tvalid_0's auc: 0.560294\n",
      "[24]\tvalid_0's binary_logloss: 0.664685\tvalid_0's auc: 0.561128\n",
      "[25]\tvalid_0's binary_logloss: 0.665711\tvalid_0's auc: 0.559671\n",
      "[26]\tvalid_0's binary_logloss: 0.666717\tvalid_0's auc: 0.55833\n",
      "[27]\tvalid_0's binary_logloss: 0.667204\tvalid_0's auc: 0.55806\n",
      "[28]\tvalid_0's binary_logloss: 0.66752\tvalid_0's auc: 0.557248\n",
      "[29]\tvalid_0's binary_logloss: 0.667177\tvalid_0's auc: 0.559067\n",
      "[30]\tvalid_0's binary_logloss: 0.666778\tvalid_0's auc: 0.562024\n",
      "[31]\tvalid_0's binary_logloss: 0.666735\tvalid_0's auc: 0.564958\n",
      "[32]\tvalid_0's binary_logloss: 0.667152\tvalid_0's auc: 0.565097\n",
      "[33]\tvalid_0's binary_logloss: 0.667423\tvalid_0's auc: 0.567318\n",
      "[34]\tvalid_0's binary_logloss: 0.66767\tvalid_0's auc: 0.567886\n",
      "[35]\tvalid_0's binary_logloss: 0.667912\tvalid_0's auc: 0.56933\n",
      "[36]\tvalid_0's binary_logloss: 0.667807\tvalid_0's auc: 0.571518\n",
      "[37]\tvalid_0's binary_logloss: 0.668466\tvalid_0's auc: 0.571252\n",
      "[38]\tvalid_0's binary_logloss: 0.668887\tvalid_0's auc: 0.571922\n",
      "[39]\tvalid_0's binary_logloss: 0.668938\tvalid_0's auc: 0.572841\n",
      "[40]\tvalid_0's binary_logloss: 0.668806\tvalid_0's auc: 0.573953\n",
      "[41]\tvalid_0's binary_logloss: 0.667589\tvalid_0's auc: 0.57533\n",
      "[42]\tvalid_0's binary_logloss: 0.668825\tvalid_0's auc: 0.575269\n",
      "[43]\tvalid_0's binary_logloss: 0.668026\tvalid_0's auc: 0.578259\n",
      "[44]\tvalid_0's binary_logloss: 0.668545\tvalid_0's auc: 0.578871\n",
      "[45]\tvalid_0's binary_logloss: 0.668458\tvalid_0's auc: 0.579827\n",
      "[46]\tvalid_0's binary_logloss: 0.667869\tvalid_0's auc: 0.582213\n",
      "[47]\tvalid_0's binary_logloss: 0.668716\tvalid_0's auc: 0.580843\n",
      "[48]\tvalid_0's binary_logloss: 0.668577\tvalid_0's auc: 0.583104\n",
      "[49]\tvalid_0's binary_logloss: 0.668341\tvalid_0's auc: 0.583874\n",
      "[50]\tvalid_0's binary_logloss: 0.668205\tvalid_0's auc: 0.585233\n",
      "[51]\tvalid_0's binary_logloss: 0.667235\tvalid_0's auc: 0.587235\n",
      "[52]\tvalid_0's binary_logloss: 0.667433\tvalid_0's auc: 0.587227\n",
      "[53]\tvalid_0's binary_logloss: 0.666885\tvalid_0's auc: 0.590129\n",
      "[54]\tvalid_0's binary_logloss: 0.666131\tvalid_0's auc: 0.593233\n",
      "[55]\tvalid_0's binary_logloss: 0.667379\tvalid_0's auc: 0.592731\n",
      "[56]\tvalid_0's binary_logloss: 0.667722\tvalid_0's auc: 0.59286\n",
      "[57]\tvalid_0's binary_logloss: 0.667893\tvalid_0's auc: 0.59348\n",
      "[58]\tvalid_0's binary_logloss: 0.667701\tvalid_0's auc: 0.595457\n",
      "[59]\tvalid_0's binary_logloss: 0.667723\tvalid_0's auc: 0.596851\n",
      "[60]\tvalid_0's binary_logloss: 0.667737\tvalid_0's auc: 0.597518\n",
      "[61]\tvalid_0's binary_logloss: 0.666453\tvalid_0's auc: 0.600432\n",
      "[62]\tvalid_0's binary_logloss: 0.667017\tvalid_0's auc: 0.600297\n",
      "[63]\tvalid_0's binary_logloss: 0.666739\tvalid_0's auc: 0.601438\n",
      "[64]\tvalid_0's binary_logloss: 0.666742\tvalid_0's auc: 0.602058\n",
      "[65]\tvalid_0's binary_logloss: 0.66646\tvalid_0's auc: 0.603604\n",
      "[66]\tvalid_0's binary_logloss: 0.666704\tvalid_0's auc: 0.6046\n",
      "[67]\tvalid_0's binary_logloss: 0.666341\tvalid_0's auc: 0.605412\n",
      "[68]\tvalid_0's binary_logloss: 0.665603\tvalid_0's auc: 0.607859\n",
      "[69]\tvalid_0's binary_logloss: 0.665946\tvalid_0's auc: 0.60692\n",
      "[70]\tvalid_0's binary_logloss: 0.666294\tvalid_0's auc: 0.607007\n",
      "[71]\tvalid_0's binary_logloss: 0.666599\tvalid_0's auc: 0.606941\n",
      "[72]\tvalid_0's binary_logloss: 0.666189\tvalid_0's auc: 0.608768\n",
      "[73]\tvalid_0's binary_logloss: 0.667666\tvalid_0's auc: 0.607281\n",
      "[74]\tvalid_0's binary_logloss: 0.667787\tvalid_0's auc: 0.608135\n",
      "[75]\tvalid_0's binary_logloss: 0.667423\tvalid_0's auc: 0.610063\n",
      "[76]\tvalid_0's binary_logloss: 0.668174\tvalid_0's auc: 0.609624\n",
      "[77]\tvalid_0's binary_logloss: 0.667816\tvalid_0's auc: 0.612038\n",
      "[78]\tvalid_0's binary_logloss: 0.667105\tvalid_0's auc: 0.612846\n",
      "[79]\tvalid_0's binary_logloss: 0.667729\tvalid_0's auc: 0.611833\n",
      "[80]\tvalid_0's binary_logloss: 0.668603\tvalid_0's auc: 0.611771\n",
      "[81]\tvalid_0's binary_logloss: 0.669563\tvalid_0's auc: 0.611221\n",
      "[82]\tvalid_0's binary_logloss: 0.669874\tvalid_0's auc: 0.61068\n",
      "[83]\tvalid_0's binary_logloss: 0.669886\tvalid_0's auc: 0.610909\n",
      "[84]\tvalid_0's binary_logloss: 0.670084\tvalid_0's auc: 0.611223\n",
      "[85]\tvalid_0's binary_logloss: 0.67067\tvalid_0's auc: 0.610581\n",
      "[86]\tvalid_0's binary_logloss: 0.670968\tvalid_0's auc: 0.610289\n",
      "[87]\tvalid_0's binary_logloss: 0.671038\tvalid_0's auc: 0.61124\n",
      "[88]\tvalid_0's binary_logloss: 0.670756\tvalid_0's auc: 0.612949\n",
      "[89]\tvalid_0's binary_logloss: 0.670673\tvalid_0's auc: 0.613235\n",
      "[90]\tvalid_0's binary_logloss: 0.671497\tvalid_0's auc: 0.612471\n",
      "[91]\tvalid_0's binary_logloss: 0.671174\tvalid_0's auc: 0.613751\n",
      "[92]\tvalid_0's binary_logloss: 0.671574\tvalid_0's auc: 0.614316\n",
      "[93]\tvalid_0's binary_logloss: 0.670907\tvalid_0's auc: 0.615767\n",
      "[94]\tvalid_0's binary_logloss: 0.670137\tvalid_0's auc: 0.617286\n",
      "[95]\tvalid_0's binary_logloss: 0.670428\tvalid_0's auc: 0.618115\n",
      "[96]\tvalid_0's binary_logloss: 0.671231\tvalid_0's auc: 0.617889\n",
      "[97]\tvalid_0's binary_logloss: 0.671256\tvalid_0's auc: 0.618775\n",
      "[98]\tvalid_0's binary_logloss: 0.671281\tvalid_0's auc: 0.619707\n",
      "[99]\tvalid_0's binary_logloss: 0.671199\tvalid_0's auc: 0.620414\n",
      "[100]\tvalid_0's binary_logloss: 0.671427\tvalid_0's auc: 0.620505\n",
      "Did not meet early stopping. Best iteration is:\n",
      "[2]\tvalid_0's binary_logloss: 0.659863\tvalid_0's auc: 0.527891\n",
      "The rmse of prediction is: 0.4682248745411764\n"
     ]
    }
   ],
   "source": [
    "# 模型训练\n",
    "gbm = lgb.train(params, lgb_train, num_boost_round=100, valid_sets=lgb_eval, early_stopping_rounds=200)\n",
    "\n",
    "# 模型保存\n",
    "gbm.save_model('model.txt')\n",
    "\n",
    "# 模型加载\n",
    "gbm = lgb.Booster(model_file='model.txt')\n",
    "\n",
    "# 模型预测\n",
    "test_pred = gbm.predict(test_feats, num_iteration=gbm.best_iteration)\n",
    "\n",
    "# 模型评估\n",
    "print('The rmse of prediction is:', mean_squared_error(test_labels, test_pred) ** 0.5)"
   ]
  },
  {
   "cell_type": "code",
   "execution_count": 32,
   "metadata": {},
   "outputs": [],
   "source": [
    "# TODO: lightGBM参数调节"
   ]
  },
  {
   "cell_type": "code",
   "execution_count": null,
   "metadata": {},
   "outputs": [],
   "source": []
  }
 ],
 "metadata": {
  "kernelspec": {
   "display_name": "Python 3",
   "language": "python",
   "name": "python3"
  },
  "language_info": {
   "codemirror_mode": {
    "name": "ipython",
    "version": 3
   },
   "file_extension": ".py",
   "mimetype": "text/x-python",
   "name": "python",
   "nbconvert_exporter": "python",
   "pygments_lexer": "ipython3",
   "version": "3.6.4"
  },
  "toc": {
   "base_numbering": 1,
   "nav_menu": {},
   "number_sections": true,
   "sideBar": true,
   "skip_h1_title": false,
   "title_cell": "Table of Contents",
   "title_sidebar": "Contents",
   "toc_cell": false,
   "toc_position": {
    "height": "calc(100% - 180px)",
    "left": "10px",
    "top": "150px",
    "width": "384px"
   },
   "toc_section_display": true,
   "toc_window_display": true
  },
  "varInspector": {
   "cols": {
    "lenName": 16,
    "lenType": 16,
    "lenVar": 40
   },
   "kernels_config": {
    "python": {
     "delete_cmd_postfix": "",
     "delete_cmd_prefix": "del ",
     "library": "var_list.py",
     "varRefreshCmd": "print(var_dic_list())"
    },
    "r": {
     "delete_cmd_postfix": ") ",
     "delete_cmd_prefix": "rm(",
     "library": "var_list.r",
     "varRefreshCmd": "cat(var_dic_list()) "
    }
   },
   "types_to_exclude": [
    "module",
    "function",
    "builtin_function_or_method",
    "instance",
    "_Feature"
   ],
   "window_display": false
  }
 },
 "nbformat": 4,
 "nbformat_minor": 2
}
