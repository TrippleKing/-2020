{
 "cells": [
  {
   "cell_type": "markdown",
   "metadata": {},
   "source": [
    "# 华为软件精英挑战赛——编程闯关"
   ]
  },
  {
   "cell_type": "markdown",
   "metadata": {},
   "source": [
    "## 读取数据"
   ]
  },
  {
   "cell_type": "markdown",
   "metadata": {},
   "source": [
    "读取提供数据(.txt文件)，探查数据内容"
   ]
  },
  {
   "cell_type": "code",
   "execution_count": 1,
   "metadata": {},
   "outputs": [],
   "source": [
    "# 导入相关库\n",
    "import os"
   ]
  },
  {
   "cell_type": "code",
   "execution_count": 2,
   "metadata": {},
   "outputs": [
    {
     "data": {
      "text/plain": [
       "'C:\\\\Users\\\\Xyao\\\\Desktop\\\\华为软件精英挑战赛\\\\热身赛\\\\编程闯关\\\\参考代码\\\\Coding_Xyao'"
      ]
     },
     "execution_count": 2,
     "metadata": {},
     "output_type": "execute_result"
    }
   ],
   "source": [
    "# 显示当前工作路径\n",
    "# jupyter notebook 只能打开当前目录下的数据集\n",
    "# 所以需要将数据集upload到当前目录下\n",
    "os.getcwd()"
   ]
  },
  {
   "cell_type": "code",
   "execution_count": 8,
   "metadata": {},
   "outputs": [],
   "source": [
    "# 定义一个数据读取函数\n",
    "def loadDataSet(filename, label_existed_flag):\n",
    "    '''\n",
    "    filename: 需要读取的文件路径\n",
    "    label_existed_flag: 用于区分训练集文件/测试集文件；取值1/0；\n",
    "                                      1表明存在label,为训练集；\n",
    "                                      0表明不存在label,为测试集\n",
    "    '''\n",
    "    feats = []          # 保存features, 但数据文件中并未明确阐述每一列的属性（比如不知道数据是表示性别、年龄等），已经做了归一化处理\n",
    "    labels = []        # 保存labels, 即每一条样本对应的label（此处为二分类，只有0/1）\n",
    "    with open(filename, 'r') as fr:   # 使用with open会自动调用close()\n",
    "        lines = fr.readlines()\n",
    "        for line in lines:\n",
    "            temp = []\n",
    "            allInfo = line.strip().split(',')\n",
    "            dims = len(allInfo)\n",
    "            if label_existed_flag == 1:\n",
    "                for index in range(dims-1):\n",
    "                    temp.append(float(allInfo[index]))\n",
    "                feats.append(temp)\n",
    "                labels.append(float(allInfo[dims-1]))\n",
    "            else:\n",
    "                for index in range(dims):\n",
    "                    temp.append(float(allInfo[index]))\n",
    "                feats.append(temp)\n",
    "        feats = np.array(feats)\n",
    "        labels = np.array(labels)\n",
    "    return feats, labels"
   ]
  },
  {
   "cell_type": "code",
   "execution_count": 12,
   "metadata": {},
   "outputs": [],
   "source": [
    "# 读取训练集数据train_data.txt\n",
    "train_file =  \"train_data.txt\"\n",
    "train_feats, train_labels = loadDataSet(train_file, 1)"
   ]
  },
  {
   "cell_type": "code",
   "execution_count": 13,
   "metadata": {},
   "outputs": [],
   "source": [
    "# 读取测试集数据test_data.txt\n",
    "test_file = \"test_data.txt\"\n",
    "test_feats, _ = loadDataSet(test_file, 0)"
   ]
  },
  {
   "cell_type": "code",
   "execution_count": 23,
   "metadata": {},
   "outputs": [],
   "source": [
    "# 读取测试集真实标签answer.txt\n",
    "answer_file = \"answer.txt\"\n",
    "test_labels = []\n",
    "with open(answer_file, 'r') as fr:\n",
    "    lines = fr.readlines()\n",
    "    for line in lines:\n",
    "        test_labels.append(int(float(line.strip())))\n",
    "test_labels = np.array(test_labels)"
   ]
  },
  {
   "cell_type": "code",
   "execution_count": 24,
   "metadata": {},
   "outputs": [
    {
     "name": "stdout",
     "output_type": "stream",
     "text": [
      "======打印训练集尺寸======\n",
      "训练集特征尺寸:  (8000, 1000)\n",
      "训练集标签尺寸:  (8000,)\n",
      "======打印测试集尺寸======\n",
      "测试集特征尺寸:  (2000, 1000)\n",
      "测试集真实标签尺寸:  (2000,)\n"
     ]
    }
   ],
   "source": [
    "# 打印数据集形状\n",
    "print(\"======打印训练集尺寸======\")\n",
    "print(\"训练集特征尺寸:  \" + str(train_feats.shape))\n",
    "print(\"训练集标签尺寸:  \" + str(train_labels.shape))\n",
    "\n",
    "print(\"======打印测试集尺寸======\")\n",
    "print(\"测试集特征尺寸:  \" + str(test_feats.shape))\n",
    "print(\"测试集真实标签尺寸:  \" + str(test_labels.shape))"
   ]
  },
  {
   "cell_type": "code",
   "execution_count": 20,
   "metadata": {},
   "outputs": [
    {
     "data": {
      "text/plain": [
       "array([0.239, 0.079, 0.934, 0.131, 0.024, 0.748, 0.951, 0.922, 0.858,\n",
       "       0.475])"
      ]
     },
     "execution_count": 20,
     "metadata": {},
     "output_type": "execute_result"
    }
   ],
   "source": []
  },
  {
   "cell_type": "code",
   "execution_count": null,
   "metadata": {},
   "outputs": [],
   "source": []
  }
 ],
 "metadata": {
  "kernelspec": {
   "display_name": "Python 3",
   "language": "python",
   "name": "python3"
  },
  "language_info": {
   "codemirror_mode": {
    "name": "ipython",
    "version": 3
   },
   "file_extension": ".py",
   "mimetype": "text/x-python",
   "name": "python",
   "nbconvert_exporter": "python",
   "pygments_lexer": "ipython3",
   "version": "3.6.4"
  },
  "toc": {
   "base_numbering": 1,
   "nav_menu": {},
   "number_sections": true,
   "sideBar": true,
   "skip_h1_title": false,
   "title_cell": "Table of Contents",
   "title_sidebar": "Contents",
   "toc_cell": false,
   "toc_position": {},
   "toc_section_display": true,
   "toc_window_display": true
  },
  "varInspector": {
   "cols": {
    "lenName": 16,
    "lenType": 16,
    "lenVar": 40
   },
   "kernels_config": {
    "python": {
     "delete_cmd_postfix": "",
     "delete_cmd_prefix": "del ",
     "library": "var_list.py",
     "varRefreshCmd": "print(var_dic_list())"
    },
    "r": {
     "delete_cmd_postfix": ") ",
     "delete_cmd_prefix": "rm(",
     "library": "var_list.r",
     "varRefreshCmd": "cat(var_dic_list()) "
    }
   },
   "types_to_exclude": [
    "module",
    "function",
    "builtin_function_or_method",
    "instance",
    "_Feature"
   ],
   "window_display": false
  }
 },
 "nbformat": 4,
 "nbformat_minor": 2
}
